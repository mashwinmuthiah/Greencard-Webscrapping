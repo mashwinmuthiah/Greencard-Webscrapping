{
 "cells": [
  {
   "cell_type": "code",
   "execution_count": 238,
   "metadata": {},
   "outputs": [],
   "source": [
    "from bs4 import BeautifulSoup\n",
    "import pandas as pd\n",
    "from urllib.request import urlopen\n",
    "url = 'https://www.dhs.gov/immigration-statistics/yearbook/2017/table1'\n",
    "html = urlopen(url).read()\n",
    "soup = BeautifulSoup(html, \"html.parser\")\n",
    "My_table = soup.find('table')"
   ]
  },
  {
   "cell_type": "code",
   "execution_count": 239,
   "metadata": {},
   "outputs": [],
   "source": [
    "table4 = {\n",
    " 'year': [],\n",
    " 'number': [],\n",
    "}"
   ]
  },
  {
   "cell_type": "code",
   "execution_count": 240,
   "metadata": {},
   "outputs": [],
   "source": [
    "rows = tables[0].findAll('tr')[1:]"
   ]
  },
  {
   "cell_type": "code",
   "execution_count": 241,
   "metadata": {},
   "outputs": [],
   "source": [
    "for row in rows:\n",
    "    cols = row.findAll('td')\n",
    "    row1 = row.findAll('th')\n",
    "    a=row.get('Contents:',row.contents[0])\n",
    "    #print(a)\n",
    "    #print(row1)\n",
    "    #print(cols)\n",
    "    \n",
    "    table4['number'].append(cols[0].string)\n",
    "    table4['year'].append(row1[0].string)\n"
   ]
  },
  {
   "cell_type": "code",
   "execution_count": 243,
   "metadata": {},
   "outputs": [],
   "source": [
    "df = pd.DataFrame(table4)\n",
    "df.to_csv('Table1.csv', index=False)"
   ]
  },
  {
   "cell_type": "code",
   "execution_count": null,
   "metadata": {},
   "outputs": [],
   "source": []
  }
 ],
 "metadata": {},
 "nbformat": 4,
 "nbformat_minor": 2
}
